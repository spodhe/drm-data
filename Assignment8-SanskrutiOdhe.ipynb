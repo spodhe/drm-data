{
 "cells": [
  {
   "cell_type": "markdown",
   "metadata": {},
   "source": [
    "# Assignment 8: EDA & Hypothesis Testing  \n",
    "**Name:** Sanskruti Odhe  \n",
    "**Dataset:** Adult Income Dataset  \n"
   ]
  },
  {
   "cell_type": "code",
   "execution_count": 3,
   "metadata": {},
   "outputs": [
    {
     "ename": "ModuleNotFoundError",
     "evalue": "No module named 'pandas'",
     "output_type": "error",
     "traceback": [
      "\u001b[0;31m---------------------------------------------------------------------------\u001b[0m",
      "\u001b[0;31mModuleNotFoundError\u001b[0m                       Traceback (most recent call last)",
      "Cell \u001b[0;32mIn[3], line 1\u001b[0m\n\u001b[0;32m----> 1\u001b[0m \u001b[38;5;28;01mimport\u001b[39;00m\u001b[38;5;250m \u001b[39m\u001b[38;5;21;01mpandas\u001b[39;00m\u001b[38;5;250m \u001b[39m\u001b[38;5;28;01mas\u001b[39;00m\u001b[38;5;250m \u001b[39m\u001b[38;5;21;01mpd\u001b[39;00m\n\u001b[1;32m      2\u001b[0m \u001b[38;5;28;01mimport\u001b[39;00m\u001b[38;5;250m \u001b[39m\u001b[38;5;21;01mnumpy\u001b[39;00m\u001b[38;5;250m \u001b[39m\u001b[38;5;28;01mas\u001b[39;00m\u001b[38;5;250m \u001b[39m\u001b[38;5;21;01mnp\u001b[39;00m\n\u001b[1;32m      3\u001b[0m \u001b[38;5;28;01mimport\u001b[39;00m\u001b[38;5;250m \u001b[39m\u001b[38;5;21;01mmatplotlib\u001b[39;00m\u001b[38;5;21;01m.\u001b[39;00m\u001b[38;5;21;01mpyplot\u001b[39;00m\u001b[38;5;250m \u001b[39m\u001b[38;5;28;01mas\u001b[39;00m\u001b[38;5;250m \u001b[39m\u001b[38;5;21;01mplt\u001b[39;00m\n",
      "\u001b[0;31mModuleNotFoundError\u001b[0m: No module named 'pandas'"
     ]
    }
   ],
   "source": [
    "import pandas as pd\n",
    "import numpy as np\n",
    "import matplotlib.pyplot as plt\n",
    "import seaborn as sns\n",
    "from scipy import stats\n",
    "from sklearn.linear_model import LogisticRegression\n",
    "from sklearn.metrics import roc_curve, auc, confusion_matrix\n",
    "\n",
    "%matplotlib inline\n",
    "sns.set_style(\"whitegrid\")\n"
   ]
  },
  {
   "cell_type": "code",
   "execution_count": null,
   "metadata": {},
   "outputs": [],
   "source": [
    "url = \"https://archive.ics.uci.edu/ml/machine-learning-databases/adult/adult.data\"\n",
    "cols = [\"age\",\"workclass\",\"fnlwgt\",\"education\",\"education_num\",\n",
    "        \"marital_status\",\"occupation\",\"relationship\",\"race\",\"sex\",\n",
    "        \"capital_gain\",\"capital_loss\",\"hours_per_week\",\"native_country\",\"income\"]\n",
    "df = pd.read_csv(url, names=cols, na_values=\" ?\", skipinitialspace=True)\n"
   ]
  },
  {
   "cell_type": "code",
   "execution_count": null,
   "metadata": {},
   "outputs": [],
   "source": [
    "# shape, dtypes, missing\n",
    "print(df.shape)\n",
    "df.info()\n",
    "print(df.isna().sum())\n",
    "\n",
    "# quick look\n",
    "df.head()\n"
   ]
  },
  {
   "cell_type": "code",
   "execution_count": null,
   "metadata": {},
   "outputs": [],
   "source": [
    "df.describe()                            # numeric\n",
    "df.select_dtypes(include=\"object\").describe()  # categorical\n"
   ]
  },
  {
   "cell_type": "code",
   "execution_count": null,
   "metadata": {},
   "outputs": [],
   "source": [
    "# 5.1 Distribution of key numerics\n",
    "fig, axes = plt.subplots(2,2, figsize=(12,8))\n",
    "sns.histplot(df.age, bins=30, ax=axes[0,0]).set_title(\"Age\")\n",
    "sns.histplot(df.hours_per_week, bins=30, ax=axes[0,1]).set_title(\"Hours/Week\")\n",
    "sns.boxplot(x=\"income\", y=\"capital_gain\", data=df, ax=axes[1,0]).set_title(\"Cap Gain by Income\")\n",
    "sns.boxplot(x=\"income\", y=\"capital_loss\", data=df, ax=axes[1,1]).set_title(\"Cap Loss by Income\")\n",
    "plt.tight_layout()\n",
    "\n",
    "# 5.2 Categorical relationships\n",
    "plt.figure(figsize=(8,4))\n",
    "sns.countplot(data=df, x=\"education\", hue=\"income\")\n",
    "plt.xticks(rotation=45)\n",
    "plt.title(\"Income by Education\")\n",
    "\n",
    "# 5.3 Correlation heatmap\n",
    "num = [\"age\",\"education_num\",\"capital_gain\",\"capital_loss\",\"hours_per_week\"]\n",
    "plt.figure(figsize=(5,4))\n",
    "sns.heatmap(df[num].corr(), annot=True, cmap=\"coolwarm\")\n",
    "plt.title(\"Numeric Corr\")\n"
   ]
  },
  {
   "cell_type": "markdown",
   "metadata": {},
   "source": [
    "#6 Hypothesis \n",
    "H₀₁: Mean hours_per_week is equal for income ≤50K vs >50K.\n",
    "H₁₁: Mean hours_per_week is higher for income >50K.\n",
    "\n",
    "H₀₂: Education level and income bracket are independent.\n",
    "H₁₂: Higher education correlates with income >50K.\n",
    "\n",
    "H₀₃: Age distributions are the same across income groups.\n",
    "H₁₃: Age distribution differs between income groups."
   ]
  },
  {
   "cell_type": "code",
   "execution_count": null,
   "metadata": {},
   "outputs": [],
   "source": [
    "# 7 hypotheis testing\n",
    "#  t-test on hours_per_week\n",
    "high = df[df.income==\">50K\"].hours_per_week\n",
    "low  = df[df.income==\"<=50K\"].hours_per_week\n",
    "t, p = stats.ttest_ind(high, low, equal_var=False)\n",
    "print(\"T-test hours/week:\", t.round(3), \"p=\", p.round(3))\n",
    "\n",
    "# chi-square on education vs income\n",
    "ct = pd.crosstab(df.education, df.income)\n",
    "chi2, p2, *_ = stats.chi2_contingency(ct)\n",
    "print(\"Chi2 educ vs income:\", chi2.round(1), \"p=\", p2.round(3))\n",
    "\n",
    "# KS test on age distributions\n",
    "age_high = df[df.income==\">50K\"].age\n",
    "age_low  = df[df.income==\"<=50K\"].age\n",
    "ks, p3    = stats.ks_2samp(age_high, age_low)\n",
    "print(\"KS-test age:\", ks.round(3), \"p=\", p3.round(3))\n"
   ]
  },
  {
   "cell_type": "code",
   "execution_count": null,
   "metadata": {},
   "outputs": [],
   "source": [
    "# extra credit \n",
    "# Logistic Regression & ROC\n",
    "X = pd.get_dummies(df.drop(\"income\", axis=1).dropna(), drop_first=True)\n",
    "y = df.dropna().income.map({\">50K\":1,\"<=50K\":0})\n",
    "model = LogisticRegression(max_iter=1000).fit(X, y)\n",
    "probs = model.predict_proba(X)[:,1]\n",
    "fpr, tpr, _ = roc_curve(y, probs)\n",
    "print(\"AUC =\", auc(fpr,tpr).round(3))\n",
    "plt.plot(fpr, tpr); plt.plot([0,1],[0,1],\"--\"); plt.title(\"ROC Curve\")\n",
    "\n",
    "#Missing-Value Analysis\n",
    "missing = df.isna().mean().sort_values(ascending=False)\n",
    "missing.plot.barh(title=\"Miss % by Feature\")\n",
    "\n",
    "#Pairplot on subsample\n",
    "sns.pairplot(df[num+[\"income\"]].sample(500), hue=\"income\")\n",
    "\n"
   ]
  }
 ],
 "metadata": {
  "kernelspec": {
   "display_name": "Python 3",
   "language": "python",
   "name": "python3"
  },
  "language_info": {
   "codemirror_mode": {
    "name": "ipython",
    "version": 3
   },
   "file_extension": ".py",
   "mimetype": "text/x-python",
   "name": "python",
   "nbconvert_exporter": "python",
   "pygments_lexer": "ipython3",
   "version": "3.9.6"
  }
 },
 "nbformat": 4,
 "nbformat_minor": 2
}
